{
 "cells": [
  {
   "cell_type": "code",
   "execution_count": 107,
   "metadata": {},
   "outputs": [],
   "source": [
    "import agents\n",
    "import game\n",
    "import mechanisms"
   ]
  },
  {
   "cell_type": "code",
   "execution_count": 108,
   "metadata": {},
   "outputs": [
    {
     "data": {
      "text/plain": [
       "<module 'mechanisms' from 'C:\\\\Users\\\\billz\\\\PycharmProjects\\\\CS_281\\\\Finding_Friends\\\\mechanisms.py'>"
      ]
     },
     "execution_count": 108,
     "metadata": {},
     "output_type": "execute_result"
    }
   ],
   "source": [
    "import importlib\n",
    "importlib.reload(agents)\n",
    "importlib.reload(game)\n",
    "importlib.reload(mechanisms)"
   ]
  },
  {
   "cell_type": "code",
   "execution_count": 109,
   "metadata": {},
   "outputs": [],
   "source": [
    "%matplotlib inline\n",
    "import numpy as np\n",
    "import pandas as pd\n",
    "\n",
    "import gym\n",
    "import math\n",
    "import random\n",
    "import numpy as np\n",
    "import matplotlib\n",
    "import matplotlib.pyplot as plt\n",
    "from collections import namedtuple\n",
    "from itertools import count\n",
    "\n",
    "import torch\n",
    "import torch.nn as nn\n",
    "import torch.optim as optim\n",
    "import torch.nn.functional as F\n",
    "\n",
    "# set up matplotlib\n",
    "is_ipython = 'inline' in matplotlib.get_backend()\n",
    "if is_ipython:\n",
    "    from IPython import display\n",
    "\n",
    "plt.ion()\n",
    "\n",
    "# if gpu is to be used\n",
    "device = torch.device(\"cuda\" if torch.cuda.is_available() else \"cpu\")"
   ]
  },
  {
   "cell_type": "code",
   "execution_count": 110,
   "metadata": {},
   "outputs": [],
   "source": [
    "Transition = namedtuple('Transition',\n",
    "                        ('state', 'action', 'next_state', 'reward'))\n",
    "\n",
    "\n",
    "class ReplayMemory(object):\n",
    "\n",
    "    def __init__(self, capacity):\n",
    "        self.capacity = capacity\n",
    "        self.memory = []\n",
    "        self.position = 0\n",
    "\n",
    "    def push(self, *args):\n",
    "        \"\"\"Saves a transition.\"\"\"\n",
    "        if len(self.memory) < self.capacity:\n",
    "            self.memory.append(None)\n",
    "        self.memory[self.position] = Transition(*args)\n",
    "        self.position = (self.position + 1) % self.capacity\n",
    "\n",
    "    def sample(self, batch_size):\n",
    "        return random.sample(self.memory, batch_size)\n",
    "\n",
    "    def __len__(self):\n",
    "        return len(self.memory)\n",
    "    \n",
    "memory = ReplayMemory(1000000)"
   ]
  },
  {
   "cell_type": "code",
   "execution_count": 111,
   "metadata": {},
   "outputs": [],
   "source": [
    "class DQ_Learner(nn.Module):\n",
    "    def __init__(self, input_dim, output_dim, hidden_dim=8):\n",
    "        super(DQ_Learner, self).__init__()\n",
    "        self.hidden = nn.Linear(input_dim, hidden_dim)\n",
    "        self.head = nn.Linear(hidden_dim, output_dim)\n",
    "#         self.probs = nn.Softmax(dim=0)\n",
    "        \n",
    "    def forward(self, x):\n",
    "#         return self.probs(self.head(x))\n",
    "        return self.head(self.hidden(x))\n",
    "\n",
    "class DQ_Agent(agents.Agent):\n",
    "    def __init__(self, id, level, input_dim, output_dim):\n",
    "        super(DQ_Agent, self).__init__(id, level)\n",
    "        \n",
    "        self.input_dim = input_dim\n",
    "        self.output_dim = output_dim\n",
    "        self.learner = DQ_Learner(input_dim, output_dim).to(device)\n",
    "        self.steps = 0\n",
    "        self.last_action = None\n",
    "        self.last_state = None\n",
    "        self.last_reward = None\n",
    "        self.next_state = None\n",
    "        \n",
    "    def pick_friends(self, levels, cap, skill_levels=None):\n",
    "        state = levels\n",
    "        if skill_levels is not None:\n",
    "            state = state + skill_levels\n",
    "        \n",
    "        state = torch.tensor(state, device=device, dtype=torch.float)\n",
    "#         print(state)\n",
    "        \n",
    "        if self.last_reward is not None and self.next_state is not None:\n",
    "            memory.push(self.last_state, self.last_action, self.next_state, self.last_reward)\n",
    "#             print(memory.memory[-1])\n",
    "        \n",
    "            # Perform one step of the optimization (on the target network)\n",
    "            optimize_model()\n",
    "        \n",
    "        # Perform e-greedy policy \n",
    "        sample = random.random()\n",
    "        eps_threshold = EPS_END + (EPS_START - EPS_END) * math.exp(-1. * self.steps / EPS_DECAY)\n",
    "        self.steps += 1\n",
    "        if sample > eps_threshold:\n",
    "#             print('Policy')\n",
    "            with torch.no_grad():\n",
    "#                 temp = self.learner(state)\n",
    "#                 print(temp)\n",
    "#                 print(temp.max(0))\n",
    "#                 print(temp.max(0)[1])\n",
    "#                 print(temp.max(0)[1].view(1, 1))\n",
    "                action = self.learner(state).max(0)[1].view(1, 1)\n",
    "        else:\n",
    "            action = torch.tensor([[np.random.randint(0, len(levels) - 1)]], device=device, dtype=torch.long)\n",
    "#         probs = self.learner(state)\n",
    "#         candidates = list(zip([i for i in range(len(levels))], probs))\n",
    "#         candidates = sorted(candidates, key=lambda t: t[1])\n",
    "        \n",
    "#         action = candidates[0][0]\n",
    "    \n",
    "#         print(action)\n",
    "    \n",
    "        self.last_action = action\n",
    "        self.last_state = state\n",
    "        \n",
    "        return action\n",
    "    \n",
    "    def accept_reward(self, reward, done, levels=None, cap=None):\n",
    "        self.last_reward = torch.tensor([reward], device=device)\n",
    "#         print(self.last_reward)\n",
    "        \n",
    "        if done:\n",
    "            memory.push(self.last_state, self.last_action, None, self.last_reward)\n",
    "#             print(memory.memory[-1])\n",
    "            \n",
    "            # Perform one step of the optimization (on the target network)\n",
    "            optimize_model()\n",
    "            \n",
    "            # Reset the temp variables\n",
    "            self.last_action = None\n",
    "            self.last_state = None\n",
    "            self.last_reward = None\n",
    "            self.next_state = None\n",
    "        else:\n",
    "            self.next_state = torch.tensor(levels, device=device, dtype=torch.float)\n",
    "    \n",
    "    def decide_sabotage(self, king, levels, cap, skill_levels=None):\n",
    "        return False"
   ]
  },
  {
   "cell_type": "code",
   "execution_count": 112,
   "metadata": {},
   "outputs": [],
   "source": [
    "BATCH_SIZE = 128\n",
    "GAMMA = 0.999\n",
    "EPS_START = 0.9\n",
    "EPS_END = 0.05\n",
    "EPS_DECAY = 200\n",
    "TARGET_UPDATE = 10\n",
    "\n",
    "NUM_PLAYERS = 4\n",
    "BASE_LVL = 0\n",
    "LVL_CAP = 10\n",
    "WIN_PROB = 1.0\n",
    "SAMPLE = mechanisms.sample_bernoulli\n",
    "\n",
    "AVG_INT = 100\n",
    "\n",
    "REWARD_TYPE = \"WINNERTAKEALL\" # options: WINNERTAKEALL, PROPORTIONAL, RANKED\n",
    "\n",
    "ff_mech = mechanisms.Baseline_Mechanism(num_players=NUM_PLAYERS, sample=SAMPLE, p=WIN_PROB)\n",
    "\n",
    "input_dim = ff_mech.input_dim()\n",
    "output_dim = ff_mech.output_dim()\n",
    "\n",
    "policy_agent = DQ_Agent(NUM_PLAYERS - 1, BASE_LVL, input_dim, output_dim)\n",
    "target_agent = DQ_Agent(NUM_PLAYERS - 1, BASE_LVL, input_dim, output_dim)\n",
    "\n",
    "policy_net = policy_agent.learner\n",
    "target_net = target_agent.learner\n",
    "# policy_net = DQ_Learner(input_dim, output_dim).to(device)\n",
    "# target_net = DQ_Learner(input_dim, output_dim).to(device)\n",
    "\n",
    "target_net.load_state_dict(policy_net.state_dict())\n",
    "target_net.eval()\n",
    "\n",
    "# optimizer = optim.Adam(policy_net.parameters(), lr=1e-2)\n",
    "optimizer = optim.RMSprop(policy_net.parameters())\n",
    "# optimizer = optim.SGD(policy_net.parameters(), lr=1e-3, momentum=0.9)\n",
    "\n",
    "steps_done = 0\n",
    "\n",
    "# Don't need this because using the agent instead\n",
    "# def select_action(state):\n",
    "#     global steps_done\n",
    "#     sample = random.random()\n",
    "#     eps_threshold = EPS_END + (EPS_START - EPS_END) * math.exp(-1. * steps_done / EPS_DECAY)\n",
    "#     steps_done += 1\n",
    "#     if sample > eps_threshold:\n",
    "#         with torch.no_grad():\n",
    "#             return policy_net(state).max(1)[1].view(1, 1)\n",
    "#     else:\n",
    "#         return torch.tensor([[random.randrange(n_actions)]], device=device, dtype=torch.long)\n",
    "\n",
    "episode_scores = []\n",
    "episode_losses = []\n",
    "\n",
    "def plot():\n",
    "    plt.figure(2)\n",
    "    plt.clf()\n",
    "    losses_t = torch.tensor(episode_losses, dtype=torch.float)\n",
    "    plt.title('Training...')\n",
    "    plt.xlabel('Episode')\n",
    "    plt.ylabel('Loss')\n",
    "    plt.plot(losses_t.numpy())\n",
    "    # Take AVG_INT episode averages and plot them too\n",
    "    if len(losses_t) >= AVG_INT:\n",
    "        means = losses_t.unfold(0, AVG_INT, 1).mean(1).view(-1)\n",
    "#         means = torch.cat((torch.zeros(99), means))\n",
    "        plt.plot(np.arange(AVG_INT, AVG_INT + len(means)), means.numpy())\n",
    "    \n",
    "#     plt.pause(1)  # pause a bit so that plots are updated\n",
    "    if is_ipython:\n",
    "        display.clear_output(wait=True)\n",
    "        display.display(plt.gcf())"
   ]
  },
  {
   "cell_type": "code",
   "execution_count": 113,
   "metadata": {},
   "outputs": [],
   "source": [
    "def optimize_model():\n",
    "    if len(memory) < BATCH_SIZE:\n",
    "        return\n",
    "    \n",
    "    transitions = memory.sample(BATCH_SIZE)\n",
    "    \n",
    "    # Transpose the batch (see https://stackoverflow.com/a/19343/3343043 for\n",
    "    # detailed explanation). This converts batch-array of Transitions\n",
    "    # to Transition of batch-arrays.\n",
    "    batch = Transition(*zip(*transitions))\n",
    "    \n",
    "    # Compute a mask of non-final states and concatenate the batch elements\n",
    "    # (a final state would've been the one after which simulation ended)\n",
    "    non_final_mask = torch.tensor(tuple(map(lambda s: s is not None, batch.next_state)), device=device, dtype=torch.uint8)\n",
    "    non_final_next_states = torch.stack([s for s in batch.next_state if s is not None])\n",
    "    \n",
    "    state_batch = torch.stack(batch.state)\n",
    "    action_batch = torch.cat(batch.action)\n",
    "    reward_batch = torch.cat(batch.reward)\n",
    "    \n",
    "#     print(f'State Batch: {non_final_next_states}')\n",
    "    \n",
    "    # Compute Q(s_t, a) - the model computes Q(s_t), then we select the\n",
    "    # columns of actions taken. These are the actions which would've been taken\n",
    "    # for each batch state according to policy_net\n",
    "    \n",
    "#     print(f'Actions: {policy_net(state_batch)}')\n",
    "    state_action_values = policy_net(state_batch).gather(1, action_batch)\n",
    "    \n",
    "#     print(f'State Action Values: {state_action_values}')\n",
    "    \n",
    "    # Compute V(s_{t+1}) for all next states.\n",
    "    # Expected values of actions for non_final_next_states are computed based\n",
    "    # on the \"older\" target_net; selecting their best reward with max(1)[0].\n",
    "    # This is merged based on the mask, such that we'll have either the expected\n",
    "    # state value or 0 in case the state was final.\n",
    "    next_state_values = torch.zeros(BATCH_SIZE, device=device)\n",
    "    next_state_values[non_final_mask] = target_net(non_final_next_states).max(1)[0].detach()\n",
    "#     print(f'Next State Values: {next_state_values}')\n",
    "    # Compute the expected Q values\n",
    "    expected_state_action_values = (next_state_values * GAMMA) + reward_batch\n",
    "\n",
    "    # Compute Huber loss\n",
    "    loss = F.smooth_l1_loss(state_action_values, expected_state_action_values.unsqueeze(1))\n",
    "    \n",
    "    episode_losses.append(float(loss))\n",
    "\n",
    "    # Optimize the model\n",
    "    optimizer.zero_grad()\n",
    "    loss.backward()\n",
    "    for param in policy_net.parameters():\n",
    "        param.grad.data.clamp_(-1, 1)\n",
    "    optimizer.step()"
   ]
  },
  {
   "cell_type": "code",
   "execution_count": 114,
   "metadata": {
    "scrolled": false
   },
   "outputs": [
    {
     "data": {
      "image/png": "[encoded data removed]",
      "text/plain": [
       "<Figure size 432x288 with 1 Axes>"
      ]
     },
     "metadata": {},
     "output_type": "display_data"
    },
    {
     "name": "stdout",
     "output_type": "stream",
     "text": [
      "Complete\n"
     ]
    },
    {
     "data": {
      "image/png": "[encoded data removed]",
      "text/plain": [
       "<Figure size 432x288 with 1 Axes>"
      ]
     },
     "metadata": {
      "needs_background": "light"
     },
     "output_type": "display_data"
    }
   ],
   "source": [
    "num_episodes = 300\n",
    "\n",
    "ff_agents = [agents.Basic_Agent(i, BASE_LVL) for i in range(NUM_PLAYERS - 1)]\n",
    "# ff_agents.append(agents.Lowest_Level_Agent(NUM_PLAYERS - 3, BASE_LVL))\n",
    "# ff_agents.append(agents_Lowest_Level_Agent(NUM_PLAYERS - 2, BASE_LVL))\n",
    "ff_agents.append(policy_agent)\n",
    "\n",
    "ff_game = game.Game(players=ff_agents, mechanism=ff_mech, cap=LVL_CAP, reward_type=REWARD_TYPE, logging_level='DEBUG')\n",
    "\n",
    "for i_episode in range(num_episodes):\n",
    "    ff_game.play()\n",
    "    episode_scores.append(ff_game.levels[policy_agent.id])\n",
    "    plot()\n",
    "    ff_game.reset()\n",
    "    \n",
    "    # Update the target network, copying all weights and biases in DQN\n",
    "    if i_episode % TARGET_UPDATE == 0:\n",
    "        target_net.load_state_dict(policy_net.state_dict())\n",
    "        \n",
    "print('Complete')\n",
    "plt.ioff()\n",
    "plt.show()"
   ]
  },
  {
   "cell_type": "code",
   "execution_count": 115,
   "metadata": {},
   "outputs": [
    {
     "data": {
      "image/png": "[encoded data removed]",
      "text/plain": [
       "<Figure size 432x288 with 1 Axes>"
      ]
     },
     "metadata": {
      "needs_background": "light"
     },
     "output_type": "display_data"
    }
   ],
   "source": [
    "window = 100\n",
    "\n",
    "wins = torch.tensor(episode_scores[:]) >= LVL_CAP\n",
    "wins = wins.unfold(0, window, 1).sum(1)\n",
    "wins = wins.type(torch.FloatTensor)\n",
    "# plt.plot(np.array(episode_scores[:900]) >= LVL_CAP)\n",
    "plt.plot(np.arange(window, window+len(wins)), (wins / window).numpy())\n",
    "plt.title('DQN Agent Rolling Win Percentage')\n",
    "plt.xlabel('Episode')\n",
    "plt.ylabel(f'Average Win % (Window: {window})')\n",
    "plt.show()"
   ]
  },
  {
   "cell_type": "code",
   "execution_count": 116,
   "metadata": {},
   "outputs": [
    {
     "data": {
      "text/plain": [
       "0.37"
      ]
     },
     "execution_count": 116,
     "metadata": {},
     "output_type": "execute_result"
    }
   ],
   "source": [
    "window = episode_scores[-100:]\n",
    "sum(np.array(window) >= LVL_CAP) / len(window)"
   ]
  },
  {
   "cell_type": "code",
   "execution_count": 117,
   "metadata": {},
   "outputs": [
    {
     "data": {
      "text/plain": [
       "tensor([-0.9045, -0.9523, -0.7359], grad_fn=<AddBackward0>)"
      ]
     },
     "execution_count": 117,
     "metadata": {},
     "output_type": "execute_result"
    }
   ],
   "source": [
    "state = [9., 9., 8., 8.]\n",
    "target_net(torch.tensor(state))"
   ]
  },
  {
   "cell_type": "code",
   "execution_count": null,
   "metadata": {},
   "outputs": [],
   "source": []
  }
 ],
 "metadata": {
  "kernelspec": {
   "display_name": "Python 3",
   "language": "python",
   "name": "python3"
  },
  "language_info": {
   "codemirror_mode": {
    "name": "ipython",
    "version": 3
   },
   "file_extension": ".py",
   "mimetype": "text/x-python",
   "name": "python",
   "nbconvert_exporter": "python",
   "pygments_lexer": "ipython3",
   "version": "3.7.3"
  }
 },
 "nbformat": 4,
 "nbformat_minor": 2
}
