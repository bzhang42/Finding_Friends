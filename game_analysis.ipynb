{
 "cells": [
  {
   "cell_type": "code",
   "execution_count": 81,
   "metadata": {},
   "outputs": [],
   "source": [
    "import agents\n",
    "import game\n",
    "import mechanisms"
   ]
  },
  {
   "cell_type": "code",
   "execution_count": 82,
   "metadata": {},
   "outputs": [
    {
     "data": {
      "text/plain": [
       "<module 'mechanisms' from 'C:\\\\Users\\\\billz\\\\PycharmProjects\\\\CS_281\\\\Finding_Friends\\\\mechanisms.py'>"
      ]
     },
     "execution_count": 82,
     "metadata": {},
     "output_type": "execute_result"
    }
   ],
   "source": [
    "import importlib\n",
    "importlib.reload(agents)\n",
    "importlib.reload(game)\n",
    "importlib.reload(mechanisms)"
   ]
  },
  {
   "cell_type": "code",
   "execution_count": 87,
   "metadata": {},
   "outputs": [],
   "source": [
    "NUM_PLAYERS = 5\n",
    "LVL_CAP = 100\n",
    "WIN_PROB = 0.4\n",
    "\n",
    "ff_agents = [agents.Basic_Agent for i in range(NUM_PLAYERS - 2)]\n",
    "ff_agents.append(agents.Lowest_Level_Agent)\n",
    "ff_agents.append(agents.Lowest_Level_Agent)\n",
    "\n",
    "ff_game = game.Game(players=ff_agents, logging_level='INFO')\n",
    "\n",
    "ff_mech = mechanisms.Baseline_Mechanism(p=WIN_PROB)"
   ]
  },
  {
   "cell_type": "code",
   "execution_count": 88,
   "metadata": {
    "scrolled": true
   },
   "outputs": [],
   "source": [
    "for i in range(20):\n",
    "    ff_game.play(cap=LVL_CAP, mechanism=ff_mech)\n",
    "    ff_game.reset()"
   ]
  },
  {
   "cell_type": "code",
   "execution_count": 24,
   "metadata": {},
   "outputs": [
    {
     "data": {
      "text/plain": [
       "'Baseline_Mechanism'"
      ]
     },
     "execution_count": 24,
     "metadata": {},
     "output_type": "execute_result"
    }
   ],
   "source": [
    "type(ff_mech).__name__"
   ]
  }
 ],
 "metadata": {
  "kernelspec": {
   "display_name": "Python 3",
   "language": "python",
   "name": "python3"
  },
  "language_info": {
   "codemirror_mode": {
    "name": "ipython",
    "version": 3
   },
   "file_extension": ".py",
   "mimetype": "text/x-python",
   "name": "python",
   "nbconvert_exporter": "python",
   "pygments_lexer": "ipython3",
   "version": "3.7.3"
  }
 },
 "nbformat": 4,
 "nbformat_minor": 2
}
