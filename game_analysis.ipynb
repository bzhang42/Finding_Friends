{
 "cells": [
  {
   "cell_type": "code",
   "execution_count": 130,
   "metadata": {},
   "outputs": [],
   "source": [
    "import agents\n",
    "import game\n",
    "import mechanisms"
   ]
  },
  {
   "cell_type": "code",
   "execution_count": 131,
   "metadata": {},
   "outputs": [
    {
     "data": {
      "text/plain": [
       "<module 'mechanisms' from 'C:\\\\Users\\\\billz\\\\PycharmProjects\\\\CS_281\\\\Finding_Friends\\\\mechanisms.py'>"
      ]
     },
     "execution_count": 131,
     "metadata": {},
     "output_type": "execute_result"
    }
   ],
   "source": [
    "import importlib\n",
    "importlib.reload(agents)\n",
    "importlib.reload(game)\n",
    "importlib.reload(mechanisms)"
   ]
  },
  {
   "cell_type": "code",
   "execution_count": 134,
   "metadata": {},
   "outputs": [
    {
     "data": {
      "text/plain": [
       "array([1, 4, 3, 2, 4])"
      ]
     },
     "execution_count": 134,
     "metadata": {},
     "output_type": "execute_result"
    }
   ],
   "source": [
    "import numpy as np\n",
    "\n",
    "skill_levels = np.random.randint(1, 5, size=NUM_PLAYERS)\n",
    "skill_levels"
   ]
  },
  {
   "cell_type": "code",
   "execution_count": 139,
   "metadata": {},
   "outputs": [],
   "source": [
    "NUM_PLAYERS = 5\n",
    "BASE_LVL = 0\n",
    "LVL_CAP = 100\n",
    "WIN_PROB = 0.4\n",
    "\n",
    "ff_agents = [agents.Basic_Agent(i, BASE_LVL) for i in range(NUM_PLAYERS - 2)]\n",
    "ff_agents.append(agents.Lowest_Level_Agent(NUM_PLAYERS - 2, BASE_LVL))\n",
    "ff_agents.append(agents.Lowest_Level_Agent(NUM_PLAYERS - 1, BASE_LVL))\n",
    "\n",
    "# ff_mech = mechanisms.Baseline_Mechanism(num_players=NUM_PLAYERS, p=WIN_PROB)\n",
    "ff_mech = mechanisms.Skill_Mechanism(num_players=NUM_PLAYERS, skill_levels=skill_levels)\n",
    "\n",
    "ff_game = game.Game(players=ff_agents, mechanism=ff_mech, cap=LVL_CAP, logging_level='DEBUG')"
   ]
  },
  {
   "cell_type": "code",
   "execution_count": 140,
   "metadata": {
    "scrolled": true
   },
   "outputs": [
    {
     "data": {
      "text/plain": [
       "[[89, 89, 89, 89, 100],\n",
       " [94, 95, 96, 95, 100],\n",
       " [97, 96, 96, 95, 100],\n",
       " [91, 95, 90, 88, 100],\n",
       " [83, 86, 84, 83, 100],\n",
       " [96, 96, 95, 93, 100],\n",
       " [90, 93, 90, 89, 100],\n",
       " [75, 76, 76, 75, 100],\n",
       " [91, 90, 91, 90, 100],\n",
       " [92, 96, 92, 92, 100],\n",
       " [89, 100, 92, 87, 98],\n",
       " [91, 90, 90, 91, 100],\n",
       " [88, 98, 93, 87, 100],\n",
       " [84, 85, 85, 84, 100],\n",
       " [100, 99, 100, 98, 99],\n",
       " [89, 90, 92, 89, 100],\n",
       " [84, 88, 84, 84, 100],\n",
       " [78, 91, 83, 78, 100],\n",
       " [91, 95, 92, 90, 100],\n",
       " [94, 93, 94, 91, 100]]"
      ]
     },
     "execution_count": 140,
     "metadata": {},
     "output_type": "execute_result"
    }
   ],
   "source": [
    "NUM_TRIALS = 20\n",
    "results = []\n",
    "\n",
    "for i in range(NUM_TRIALS):\n",
    "    ff_game.play()\n",
    "    results.append(ff_game.levels)\n",
    "    ff_game.reset()\n",
    "\n",
    "results"
   ]
  },
  {
   "cell_type": "code",
   "execution_count": null,
   "metadata": {},
   "outputs": [],
   "source": []
  }
 ],
 "metadata": {
  "kernelspec": {
   "display_name": "Python 3",
   "language": "python",
   "name": "python3"
  },
  "language_info": {
   "codemirror_mode": {
    "name": "ipython",
    "version": 3
   },
   "file_extension": ".py",
   "mimetype": "text/x-python",
   "name": "python",
   "nbconvert_exporter": "python",
   "pygments_lexer": "ipython3",
   "version": "3.7.3"
  }
 },
 "nbformat": 4,
 "nbformat_minor": 2
}
